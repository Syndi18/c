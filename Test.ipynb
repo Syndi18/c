{
 "cells": [
  {
   "cell_type": "code",
   "execution_count": 1,
   "id": "4ead52dc",
   "metadata": {},
   "outputs": [
    {
     "name": "stdout",
     "output_type": "stream",
     "text": [
      "Hello world\n"
     ]
    }
   ],
   "source": [
    "print(\"Hello world\")"
   ]
  },
  {
   "cell_type": "code",
   "execution_count": 2,
   "id": "76ee9ebd",
   "metadata": {},
   "outputs": [
    {
     "name": "stdout",
     "output_type": "stream",
     "text": [
      "Hello1111\n"
     ]
    }
   ],
   "source": [
    "print(\"Hello1111\")"
   ]
  },
  {
   "cell_type": "code",
   "execution_count": null,
   "id": "7df3c09c",
   "metadata": {},
   "outputs": [],
   "source": [
    "def is_palindrome(x):\n",
    "    if len(x) < 1:\n",
    "        return True\n",
    "    else:\n",
    "        if x(0) == s(-1):\n",
    "            return is_palindrome(x[1:-1])\n",
    "        else:\n",
    "            return False\n",
    "        \n",
    "print is_palindrome('')\n",
    "#>>> True\n",
    "print is_palindrome('abab')\n",
    "#>>> False\n",
    "    \n",
    "            "
   ]
  }
 ],
 "metadata": {
  "kernelspec": {
   "display_name": "Python 3 (ipykernel)",
   "language": "python",
   "name": "python3"
  },
  "language_info": {
   "codemirror_mode": {
    "name": "ipython",
    "version": 3
   },
   "file_extension": ".py",
   "mimetype": "text/x-python",
   "name": "python",
   "nbconvert_exporter": "python",
   "pygments_lexer": "ipython3",
   "version": "3.9.7"
  }
 },
 "nbformat": 4,
 "nbformat_minor": 5
}
